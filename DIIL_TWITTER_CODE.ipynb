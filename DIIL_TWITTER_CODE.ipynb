{
 "cells": [
  {
   "cell_type": "code",
   "execution_count": 1,
   "metadata": {},
   "outputs": [],
   "source": [
    "access_key = ''\n",
    "access_secret = ''\n",
    "consumer_key = 'qoeSeYEDM3U01KjilFiPd0DcG'\n",
    "consumer_secret = ''"
   ]
  },
  {
   "cell_type": "code",
   "execution_count": null,
   "metadata": {},
   "outputs": [],
   "source": [
    "import tweepy #https://github.com/tweepy/tweepy\n",
    "import json"
   ]
  },
  {
   "cell_type": "code",
   "execution_count": null,
   "metadata": {},
   "outputs": [],
   "source": [
    "auth = tweepy.OAuthHandler(consumer_key, consumer_secret)\n",
    "auth.set_access_token(access_key, access_secret)\n",
    "api = tweepy.API(auth)"
   ]
  },
  {
   "cell_type": "code",
   "execution_count": null,
   "metadata": {},
   "outputs": [],
   "source": [
    "user = api.get_user('NicolaSturgeon')"
   ]
  },
  {
   "cell_type": "code",
   "execution_count": null,
   "metadata": {},
   "outputs": [],
   "source": [
    "print(user.screen_name)"
   ]
  },
  {
   "cell_type": "code",
   "execution_count": null,
   "metadata": {},
   "outputs": [],
   "source": [
    "print(user.followers_count)"
   ]
  },
  {
   "cell_type": "code",
   "execution_count": null,
   "metadata": {},
   "outputs": [],
   "source": [
    "print(user.description)"
   ]
  },
  {
   "cell_type": "code",
   "execution_count": null,
   "metadata": {},
   "outputs": [],
   "source": [
    "user"
   ]
  },
  {
   "cell_type": "code",
   "execution_count": null,
   "metadata": {},
   "outputs": [],
   "source": [
    "new_tweets = api.user_timeline(screen_name = 'NicolaSturgeon',count=2)"
   ]
  },
  {
   "cell_type": "code",
   "execution_count": null,
   "metadata": {},
   "outputs": [],
   "source": [
    "new_tweets[0]"
   ]
  },
  {
   "cell_type": "code",
   "execution_count": null,
   "metadata": {},
   "outputs": [],
   "source": [
    "brexit_tweets = api.search(q='brexit', lang='en', count='10')"
   ]
  },
  {
   "cell_type": "code",
   "execution_count": null,
   "metadata": {},
   "outputs": [],
   "source": [
    "brexit_tweets[0]"
   ]
  },
  {
   "cell_type": "code",
   "execution_count": null,
   "metadata": {},
   "outputs": [],
   "source": [
    "brexit_tweets[0]._json"
   ]
  },
  {
   "cell_type": "code",
   "execution_count": null,
   "metadata": {},
   "outputs": [],
   "source": [
    "brexit_tweets[0]._json['text'] "
   ]
  },
  {
   "cell_type": "code",
   "execution_count": null,
   "metadata": {},
   "outputs": [],
   "source": [
    "tweets_text = []\n",
    "for each in brexit_tweets:\n",
    "    tweets_text.append(each._json['text'])"
   ]
  },
  {
   "cell_type": "code",
   "execution_count": null,
   "metadata": {},
   "outputs": [],
   "source": [
    "tweets_text"
   ]
  },
  {
   "cell_type": "code",
   "execution_count": null,
   "metadata": {},
   "outputs": [],
   "source": [
    "tweets_string = \" \".join(tweets_text)\n",
    "from nltk.tokenize import word_tokenize\n",
    "tokens = word_tokenize(tweets_string)"
   ]
  },
  {
   "cell_type": "code",
   "execution_count": null,
   "metadata": {},
   "outputs": [],
   "source": [
    "print(tokens[0:10])"
   ]
  },
  {
   "cell_type": "code",
   "execution_count": null,
   "metadata": {},
   "outputs": [],
   "source": [
    "lowercase_tokens = [token.lower() for token in tokens]"
   ]
  },
  {
   "cell_type": "code",
   "execution_count": null,
   "metadata": {},
   "outputs": [],
   "source": [
    "import nltk\n",
    "import string\n",
    "nltk.download('stopwords')\n",
    "from nltk.corpus import stopwords\n",
    "remove_these = set(stopwords.words('english') + list(string.punctuation) + list(string.digits))\n",
    "filtered_text = [word \n",
    "                 for word in lowercase_tokens \n",
    "                 if not word in remove_these]\n",
    "from collections import Counter\n",
    "simple_frequencies_dict = Counter(filtered_text)"
   ]
  },
  {
   "cell_type": "code",
   "execution_count": null,
   "metadata": {},
   "outputs": [],
   "source": [
    "import matplotlib.pyplot as plt\n",
    "from wordcloud import WordCloud\n",
    "\n",
    "cloud = WordCloud(max_font_size=80,colormap=\"hsv\").generate_from_frequencies(simple_frequencies_dict)\n",
    "plt.figure(figsize=(16,12))\n",
    "plt.imshow(cloud, interpolation='bilinear')\n",
    "plt.axis('off')\n",
    "plt.show()"
   ]
  },
  {
   "cell_type": "code",
   "execution_count": null,
   "metadata": {},
   "outputs": [],
   "source": [
    "covid_tweets = api.search(q='covid OR covid19 OR COVID OR COVID19 or #covid', lang='en', count='100')"
   ]
  },
  {
   "cell_type": "code",
   "execution_count": null,
   "metadata": {},
   "outputs": [],
   "source": [
    "covid_tweets[0]._json['text'] "
   ]
  },
  {
   "cell_type": "code",
   "execution_count": null,
   "metadata": {},
   "outputs": [],
   "source": [
    "covid_hashtags = []\n",
    "for each in covid_tweets:\n",
    "   for hashtag in each._json['entities']['hashtags']:\n",
    "    covid_hashtags.append(hashtag['text'])"
   ]
  },
  {
   "cell_type": "code",
   "execution_count": null,
   "metadata": {},
   "outputs": [],
   "source": [
    "hashtag_string = \" \".join(covid_hashtags)\n",
    "tokens = word_tokenize(hashtag_string)\n",
    "simple_frequencies_dict_covid = Counter(tokens)\n",
    "cloud = WordCloud(max_font_size=80, colormap=\"viridis\", background_color='white',).generate_from_frequencies(simple_frequencies_dict_covid)\n",
    "plt.figure(figsize=(16,12))\n",
    "plt.imshow(cloud, interpolation='bilinear')\n",
    "plt.axis('off')\n",
    "plt.show()"
   ]
  },
  {
   "cell_type": "code",
   "execution_count": null,
   "metadata": {},
   "outputs": [],
   "source": [
    "covid_mentions = []\n",
    "for each in covid_tweets:\n",
    "   for mention in each._json['entities']['user_mentions']:\n",
    "        covid_mentions.append(mention['name'])\n",
    "people_dict=Counter(covid_mentions)"
   ]
  },
  {
   "cell_type": "code",
   "execution_count": null,
   "metadata": {},
   "outputs": [],
   "source": [
    "cloud = WordCloud(max_font_size=80,background_color='white',colormap=\"viridis\").generate_from_frequencies(people_dict)\n",
    "plt.figure(figsize=(16,12))\n",
    "plt.imshow(cloud, interpolation='bilinear')\n",
    "plt.axis('off')\n",
    "plt.show()"
   ]
  },
  {
   "cell_type": "code",
   "execution_count": null,
   "metadata": {},
   "outputs": [],
   "source": [
    "# This is taken from data scientist Eugenia Inzaugarat on github https://github.com/ugis22/analysing_twitter/blob/master/Jupyter%20Notebook%20files/Interaction%20Network.ipynb\n",
    "# Get the interactions between the different users\n",
    "def get_interactions(row):\n",
    "    # From every row of the original dataframe\n",
    "    # First we obtain the 'user_id' and 'screen_name'\n",
    "    user = row[\"id\"], row[\"user\"][\"screen_name\"]\n",
    "    # Be careful if there is no user id\n",
    "    if user[0] is None:\n",
    "        return (None, None), []\n",
    "    \n",
    "    # The interactions are going to be a set of tuples\n",
    "    interactions = set()\n",
    "    \n",
    "    # Add all interactions \n",
    "    # First, we add the interactions corresponding to replies adding the id and screen_name\n",
    "    interactions.add((row[\"in_reply_to_user_id\"], row[\"in_reply_to_screen_name\"]))\n",
    "    # After that, we add the interactions with retweets\n",
    "    interactions.add((row[\"retweeted_status\"][\"user\"][\"id_str\"], row[\"retweeted_status\"][\"user\"][\"name\"]))\n",
    "    # And later, the interactions with user mentions\n",
    "    #interactions.add((row[\"user_mentions_id\"], row[\"user_mentions_screen_name\"]))\n",
    "    \n",
    "    # Discard if user id is in interactions\n",
    "    interactions.discard((row[\"id\"], row[\"user\"][\"screen_name\"]))\n",
    "    # Discard all not existing values\n",
    "    interactions.discard((None, None))\n",
    "    # Return user and interactions\n",
    "    return user, interactions"
   ]
  },
  {
   "cell_type": "code",
   "execution_count": null,
   "metadata": {},
   "outputs": [],
   "source": [
    "import networkx as nx\n",
    "graph = nx.Graph()\n",
    "covid_tweets = []\n",
    "for page in tweepy.Cursor(api.search, q='brexit', lang='en', min_retweets=\"1000\").pages(100):\n",
    "    covid_tweets.append(page)"
   ]
  },
  {
   "cell_type": "code",
   "execution_count": null,
   "metadata": {},
   "outputs": [],
   "source": [
    "for page in covid_tweets:\n",
    "    for tweet in page:\n",
    "        try:\n",
    "            retweet_status = tweet._json[\"retweeted_status\"]\n",
    "            user, interactions = get_interactions(tweet._json)\n",
    "            user_id, user_name = user\n",
    "            #print(user_id)\n",
    "            tweet_id = tweet._json[\"id_str\"]\n",
    "            #print(tweet_id)\n",
    "            for interaction in interactions:\n",
    "                interaction\n",
    "                int_id, int_name = interaction\n",
    "                graph.add_edge(user_id, int_id, tweet_id=tweet_id)    \n",
    "                graph.node[user_id][\"name\"] = user_name\n",
    "                graph.node[int_id][\"name\"] = int_name\n",
    "        except:\n",
    "            pass"
   ]
  },
  {
   "cell_type": "code",
   "execution_count": null,
   "metadata": {},
   "outputs": [],
   "source": [
    "print(f\"There are {graph.number_of_nodes()} nodes and {graph.number_of_edges()} edges present in the Graph\")"
   ]
  },
  {
   "cell_type": "code",
   "execution_count": null,
   "metadata": {},
   "outputs": [],
   "source": [
    "from operator import itemgetter\n",
    "graph_centrality = nx.degree_centrality(graph)\n",
    "max_de = max(graph_centrality.items(), key=itemgetter(1))\n",
    "graph_closeness = nx.closeness_centrality(graph)\n",
    "max_clo = max(graph_closeness.items(), key=itemgetter(1))\n",
    "graph_betweenness = nx.betweenness_centrality(graph, normalized=True, endpoints=False)\n",
    "max_bet = max(graph_betweenness.items(), key=itemgetter(1))"
   ]
  },
  {
   "cell_type": "code",
   "execution_count": null,
   "metadata": {},
   "outputs": [],
   "source": [
    "print(f\"the node with id {max_de[0]} has a degree centrality of {max_de[1]:.2f} which is the maximum of the Graph\")\n",
    "print(f\"the node with id {max_clo[0]} has a closeness centrality of {max_clo[1]:.2f} which is the maximum of the Graph\")\n",
    "print(f\"the node with id {max_bet[0]} has a betweenness centrality of {max_bet[1]:.2f} which is the maximum of the Graph\")"
   ]
  },
  {
   "cell_type": "code",
   "execution_count": null,
   "metadata": {},
   "outputs": [],
   "source": [
    "node_and_degree = graph.degree()\n",
    "colors_central_nodes = ['orange', 'red']\n",
    "central_nodes = ['2334732225', '2334732225']\n",
    "pos = nx.spring_layout(graph, k=0.05)"
   ]
  },
  {
   "cell_type": "code",
   "execution_count": null,
   "metadata": {},
   "outputs": [],
   "source": [
    "plt.figure(figsize = (20,20))\n",
    "nx.draw(graph, pos=pos, cmap=plt.cm.PiYG, edge_color=\"black\", linewidths=0.3, node_size=60, alpha=0.6, with_labels=False)\n",
    "nx.draw_networkx_nodes(graph, pos=pos, nodelist=central_nodes, node_size=300, node_color=colors_central_nodes)\n",
    "#plt.savefig('graphfinal.png')\n",
    "plt.show()"
   ]
  },
  {
   "cell_type": "code",
   "execution_count": null,
   "metadata": {},
   "outputs": [],
   "source": [
    "api.get_user('2334732225')"
   ]
  },
  {
   "cell_type": "code",
   "execution_count": null,
   "metadata": {},
   "outputs": [],
   "source": [
    "new_tweets = api.user_timeline(id = '2334732225',count=5)\n",
    "for tweet in new_tweets:\n",
    "    print(tweet._json['text'])\n",
    "    "
   ]
  }
 ],
 "metadata": {
  "kernelspec": {
   "display_name": "Python 3",
   "language": "python",
   "name": "python3"
  },
  "language_info": {
   "codemirror_mode": {
    "name": "ipython",
    "version": 3
   },
   "file_extension": ".py",
   "mimetype": "text/x-python",
   "name": "python",
   "nbconvert_exporter": "python",
   "pygments_lexer": "ipython3",
   "version": "3.7.3"
  }
 },
 "nbformat": 4,
 "nbformat_minor": 2
}
